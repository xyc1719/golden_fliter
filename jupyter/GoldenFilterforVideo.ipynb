{
 "cells": [
  {
   "cell_type": "markdown",
   "metadata": {},
   "source": [
    "# Golden Filter for Video \n",
    "\n",
    "## 1、加载视频文件并展示"
   ]
  },
  {
   "cell_type": "code",
   "execution_count": 27,
   "metadata": {},
   "outputs": [
    {
     "ename": "ModuleNotFoundError",
     "evalue": "No module named 'cv2'",
     "output_type": "error",
     "traceback": [
      "\u001b[1;31m---------------------------------------------------------------------------\u001b[0m",
      "\u001b[1;31mModuleNotFoundError\u001b[0m                       Traceback (most recent call last)",
      "Cell \u001b[1;32mIn[27], line 1\u001b[0m\n\u001b[1;32m----> 1\u001b[0m \u001b[39mimport\u001b[39;00m \u001b[39mcv2\u001b[39;00m\n\u001b[0;32m      2\u001b[0m \u001b[39mimport\u001b[39;00m \u001b[39mnumpy\u001b[39;00m \u001b[39mas\u001b[39;00m \u001b[39mnp\u001b[39;00m\n\u001b[0;32m      3\u001b[0m \u001b[39mimport\u001b[39;00m \u001b[39mtime\u001b[39;00m\n",
      "\u001b[1;31mModuleNotFoundError\u001b[0m: No module named 'cv2'"
     ]
    }
   ],
   "source": [
    "import cv2\n",
    "import numpy as np\n",
    "import time"
   ]
  },
  {
   "cell_type": "markdown",
   "metadata": {},
   "source": [
    "加载目录下的视频文件test.mp4，播放未经处理的原视频。"
   ]
  },
  {
   "cell_type": "code",
   "execution_count": 29,
   "metadata": {
    "tags": []
   },
   "outputs": [
    {
     "data": {
      "text/html": [
       "<video src=\"./test.mp4\" controls  >\n",
       "      Your browser does not support the <code>video</code> element.\n",
       "    </video>"
      ],
      "text/plain": [
       "<IPython.core.display.Video object>"
      ]
     },
     "execution_count": 29,
     "metadata": {},
     "output_type": "execute_result"
    }
   ],
   "source": [
    "from IPython.display import Video\n",
    "Video(\"./test.mp4\")"
   ]
  },
  {
   "cell_type": "markdown",
   "metadata": {},
   "source": [
    "输出视频的各类信息。"
   ]
  },
  {
   "cell_type": "code",
   "execution_count": 21,
   "metadata": {
    "scrolled": false,
    "tags": []
   },
   "outputs": [
    {
     "ename": "NameError",
     "evalue": "name 'cv2' is not defined",
     "output_type": "error",
     "traceback": [
      "\u001b[1;31m---------------------------------------------------------------------------\u001b[0m",
      "\u001b[1;31mNameError\u001b[0m                                 Traceback (most recent call last)",
      "Cell \u001b[1;32mIn[21], line 1\u001b[0m\n\u001b[1;32m----> 1\u001b[0m vc \u001b[39m=\u001b[39m cv2\u001b[39m.\u001b[39mVideoCapture(\u001b[39m\"\u001b[39m\u001b[39m./test.mp4\u001b[39m\u001b[39m\"\u001b[39m)\n\u001b[0;32m      3\u001b[0m width \u001b[39m=\u001b[39m \u001b[39mint\u001b[39m(vc\u001b[39m.\u001b[39mget(cv2\u001b[39m.\u001b[39mCAP_PROP_FRAME_WIDTH))\n\u001b[0;32m      4\u001b[0m height \u001b[39m=\u001b[39m \u001b[39mint\u001b[39m(vc\u001b[39m.\u001b[39mget(cv2\u001b[39m.\u001b[39mCAP_PROP_FRAME_HEIGHT))\n",
      "\u001b[1;31mNameError\u001b[0m: name 'cv2' is not defined"
     ]
    }
   ],
   "source": [
    "vc = cv2.VideoCapture(\"./test.mp4\")\n",
    "\n",
    "width = int(vc.get(cv2.CAP_PROP_FRAME_WIDTH))\n",
    "height = int(vc.get(cv2.CAP_PROP_FRAME_HEIGHT))\n",
    "print(f\"视频尺寸: {width} x {height}\")\n",
    "\n",
    "fps = int(vc.get(cv2.CAP_PROP_FPS))\n",
    "print(\"视频帧率:\", fps)\n",
    "\n",
    "frame_c = int(vc.get(cv2.CAP_PROP_FRAME_COUNT))\n",
    "print(\"视频帧数:\", frame_c)"
   ]
  },
  {
   "cell_type": "markdown",
   "metadata": {
    "tags": []
   },
   "source": [
    "## 2、使用python函数为视频添加怀旧滤镜\n",
    "\n",
    "    通过设置适当的线性核对视频每一帧的像素BGR值进行线性变换处理，以达到添加怀旧滤镜的效果。\n",
    "    处理时间可能较慢，请耐心等待。"
   ]
  },
  {
   "cell_type": "code",
   "execution_count": 7,
   "metadata": {
    "scrolled": true
   },
   "outputs": [
    {
     "name": "stdout",
     "output_type": "stream",
     "text": [
      "处理耗时：22.124585161999676s\n"
     ]
    }
   ],
   "source": [
    "#设置输出格式和输出流\n",
    "fourcc = cv2.VideoWriter_fourcc(*'XVID') \n",
    "output = cv2.VideoWriter('output.mp4', fourcc, fps, (width, height), True)\n",
    "\n",
    "total_time = 0\n",
    "\n",
    "#滤镜参数\n",
    "kernel = np.array([[0.131, 0.534, 0.272],\n",
    "                  [0.168, 0.686, 0.349],\n",
    "                  [0.189, 0.769, 0.393]])\n",
    "#R、G、B分量的点运算映射函数分别为\n",
    "#R = 0.393r+0.769g+0.189b\n",
    "#G = 0.349r+0.686g+0.168b\n",
    "#B = 0.272r+0.534g+0.131b\n",
    "\n",
    "while(vc.isOpened()):\n",
    "    \n",
    "    ret, frame = vc.read()\n",
    "    if ret==True:\n",
    "        start_time = time.perf_counter()\n",
    "        #每读一帧，对图像处理并写入文件中\n",
    "        frame = cv2.transform(frame, kernel)\n",
    "        \n",
    "        end_time = time.perf_counter()\n",
    "        total_time += end_time - start_time\n",
    "        \n",
    "        output.write(frame)\n",
    "    else:\n",
    "       break\n",
    " \n",
    "print(\"处理耗时：{}s\".format(total_time))\n",
    "\n",
    "vc.release()\n",
    "output.release()"
   ]
  },
  {
   "cell_type": "code",
   "execution_count": 30,
   "metadata": {
    "scrolled": true
   },
   "outputs": [
    {
     "data": {
      "text/html": [
       "<video src=\"./output.mp4\" controls  >\n",
       "      Your browser does not support the <code>video</code> element.\n",
       "    </video>"
      ],
      "text/plain": [
       "<IPython.core.display.Video object>"
      ]
     },
     "execution_count": 30,
     "metadata": {},
     "output_type": "execute_result"
    }
   ],
   "source": [
    "#展示处理后的视频\n",
    "Video(\"./output.mp4\")"
   ]
  },
  {
   "cell_type": "markdown",
   "metadata": {},
   "source": [
    "## 3、使用硬件加速视频处理"
   ]
  },
  {
   "cell_type": "code",
   "execution_count": 9,
   "metadata": {},
   "outputs": [],
   "source": [
    "#重新加载视频\n",
    "vc = cv2.VideoCapture(\"./test.mp4\")\n",
    "\n",
    "width = int(vc.get(cv2.CAP_PROP_FRAME_WIDTH))\n",
    "height = int(vc.get(cv2.CAP_PROP_FRAME_HEIGHT))\n",
    "fps = int(vc.get(cv2.CAP_PROP_FPS))\n",
    "\n",
    "fourcc = cv2.VideoWriter_fourcc(*'XVID')\n",
    "output2 = cv2.VideoWriter('output2.mp4', fourcc, fps, (width, height), True)"
   ]
  },
  {
   "cell_type": "code",
   "execution_count": 10,
   "metadata": {},
   "outputs": [
    {
     "data": {
      "application/javascript": "\ntry {\nrequire(['notebook/js/codecell'], function(codecell) {\n  codecell.CodeCell.options_default.highlight_modes[\n      'magic_text/x-csrc'] = {'reg':[/^%%microblaze/]};\n  Jupyter.notebook.events.one('kernel_ready.Kernel', function(){\n      Jupyter.notebook.get_cells().map(function(cell){\n          if (cell.cell_type == 'code'){ cell.auto_highlight(); } }) ;\n  });\n});\n} catch (e) {};\n"
     },
     "metadata": {},
     "output_type": "display_data"
    },
    {
     "data": {
      "application/javascript": "\ntry {\nrequire(['notebook/js/codecell'], function(codecell) {\n  codecell.CodeCell.options_default.highlight_modes[\n      'magic_text/x-csrc'] = {'reg':[/^%%pybind11/]};\n  Jupyter.notebook.events.one('kernel_ready.Kernel', function(){\n      Jupyter.notebook.get_cells().map(function(cell){\n          if (cell.cell_type == 'code'){ cell.auto_highlight(); } }) ;\n  });\n});\n} catch (e) {};\n"
     },
     "metadata": {},
     "output_type": "display_data"
    }
   ],
   "source": [
    "from pynq import Overlay, allocate\n",
    "\n",
    "#overlay加载\n",
    "overlay = Overlay(\"./overlay_golden/golden_transfer.bit\")\n",
    "\n",
    "golden_filter = overlay.golden_transfer_0\n",
    "#写入参数\n",
    "golden_filter.write(0x10, height)\n",
    "golden_filter.write(0x18, width)\n",
    "\n",
    "#启动IP，提取dma\n",
    "dma = overlay.axi_dma_0"
   ]
  },
  {
   "cell_type": "code",
   "execution_count": 11,
   "metadata": {},
   "outputs": [],
   "source": [
    "block_size = 24 #一次读入的数据块大小\n",
    "pad_width = (block_size - 1) - (height * width * 3 - 1) % block_size #根据视频帧的尺寸对缓冲区大小进行填充\n",
    "\n",
    "#分配缓冲区空间\n",
    "input_buffer = allocate(shape=(width * height * 3 + pad_width,), dtype='u1')\n",
    "output_buffer = allocate(shape=(width * height * 3 + pad_width,), dtype='u1')"
   ]
  },
  {
   "cell_type": "code",
   "execution_count": 12,
   "metadata": {},
   "outputs": [
    {
     "name": "stdout",
     "output_type": "stream",
     "text": [
      "处理耗时：1.6548340710000957s\n"
     ]
    }
   ],
   "source": [
    "total_time = 0\n",
    "\n",
    "while(vc.isOpened()):\n",
    "    #循环读入视频帧\n",
    "    ret, frame = vc.read()\n",
    "    if ret==True:\n",
    "        #对帧进行填充并放置到输入缓冲区中\n",
    "        frame = np.pad(frame.flatten(), (0, pad_width), mode='constant', constant_values=0)\n",
    "        np.copyto(input_buffer, frame)\n",
    "        \n",
    "        golden_filter.register_map.CTRL.AP_START = 1\n",
    "        \n",
    "        start_time = time.perf_counter()\n",
    "        #使用硬件对视频帧进行处理\n",
    "        #调用DMA读取输入缓冲，并将数据发送到AXI Stream Master\n",
    "        #之后，DMA应从AXI Stream Slave中将结果写回到输出缓冲中\n",
    "        dma.sendchannel.transfer(input_buffer)\n",
    "        dma.recvchannel.transfer(output_buffer)\n",
    "        dma.sendchannel.wait() #'wait'语句确保了DMA的处理操作已经完成\n",
    "        dma.recvchannel.wait()\n",
    "        \n",
    "        end_time = time.perf_counter()\n",
    "        total_time += end_time - start_time\n",
    "        #将处理后的视频帧输出到文件\n",
    "        output2.write((np.resize(output_buffer, (height, width, 3))).reshape(height, width, 3))\n",
    "\n",
    "    else:\n",
    "        break\n",
    "        \n",
    "\n",
    "print(\"处理耗时：{}s\".format(total_time))\n",
    "\n",
    "vc.release()\n",
    "output2.release()"
   ]
  },
  {
   "cell_type": "markdown",
   "metadata": {},
   "source": [
    "展示处理得到的视频："
   ]
  },
  {
   "cell_type": "code",
   "execution_count": 31,
   "metadata": {},
   "outputs": [
    {
     "data": {
      "text/html": [
       "<video src=\"./output2.mp4\" controls  >\n",
       "      Your browser does not support the <code>video</code> element.\n",
       "    </video>"
      ],
      "text/plain": [
       "<IPython.core.display.Video object>"
      ]
     },
     "execution_count": 31,
     "metadata": {},
     "output_type": "execute_result"
    }
   ],
   "source": [
    "Video(\"./output2.mp4\")"
   ]
  },
  {
   "cell_type": "markdown",
   "metadata": {},
   "source": [
    "## 4、创建用户接口"
   ]
  },
  {
   "cell_type": "code",
   "execution_count": 14,
   "metadata": {},
   "outputs": [],
   "source": [
    "def GoldenFilter(f, input_path, output_path):   #输入overlay, 要处理的视频目录和结果存放目录\n",
    "               \n",
    "    vc = cv2.VideoCapture(input_path)\n",
    "\n",
    "    width = int(vc.get(cv2.CAP_PROP_FRAME_WIDTH))\n",
    "    height = int(vc.get(cv2.CAP_PROP_FRAME_HEIGHT))\n",
    "    fps = int(vc.get(cv2.CAP_PROP_FPS))\n",
    "\n",
    "    fourcc = cv2.VideoWriter_fourcc(*'XVID')\n",
    "    output3 = cv2.VideoWriter(output_path, fourcc, fps, (width, height), True)\n",
    "\n",
    "    f.write(0x10, height)\n",
    "    f.write(0x18, width)\n",
    "\n",
    "    block_size = 24\n",
    "    pad_width = (block_size - 1) - (height * width * 3 - 1) % block_size\n",
    "\n",
    "    input_buffer = allocate(shape=(width * height * 3 + pad_width,), dtype='u1')\n",
    "    output_buffer = allocate(shape=(width * height * 3 + pad_width,), dtype='u1')\n",
    "\n",
    "    while(vc.isOpened()):\n",
    "    \n",
    "        ret, frame = vc.read()\n",
    "        if ret==True:\n",
    "\n",
    "            frame = np.pad(frame.flatten(), (0, pad_width), mode='constant', constant_values=0)\n",
    "            np.copyto(input_buffer, frame)\n",
    "        \n",
    "            f.register_map.CTRL.AP_START = 1\n",
    "        \n",
    "            dma.sendchannel.transfer(input_buffer)\n",
    "            dma.recvchannel.transfer(output_buffer)\n",
    "            dma.sendchannel.wait()\n",
    "            dma.recvchannel.wait()\n",
    "        \n",
    "            output3.write((np.resize(output_buffer, (height, width, 3))).reshape(height, width, 3))\n",
    "\n",
    "        else:\n",
    "            break\n",
    "            \n",
    "    vc.release()\n",
    "    output3.release()\n",
    "        \n",
    "    return"
   ]
  },
  {
   "cell_type": "markdown",
   "metadata": {},
   "source": [
    "直接调用上方描述的方法并输出结果。"
   ]
  },
  {
   "cell_type": "code",
   "execution_count": 33,
   "metadata": {},
   "outputs": [
    {
     "data": {
      "text/html": [
       "<video src=\"./output3.mp4\" controls  >\n",
       "      Your browser does not support the <code>video</code> element.\n",
       "    </video>"
      ],
      "text/plain": [
       "<IPython.core.display.Video object>"
      ]
     },
     "execution_count": 33,
     "metadata": {},
     "output_type": "execute_result"
    }
   ],
   "source": [
    "GoldenFilter(golden_filter, './test.mp4', './output3.mp4')\n",
    "from IPython.display import Video\n",
    "Video('./output3.mp4')"
   ]
  },
  {
   "cell_type": "code",
   "execution_count": null,
   "metadata": {},
   "outputs": [],
   "source": []
  }
 ],
 "metadata": {
  "kernelspec": {
   "display_name": "Python 3",
   "language": "python",
   "name": "python3"
  },
  "language_info": {
   "codemirror_mode": {
    "name": "ipython",
    "version": 3
   },
   "file_extension": ".py",
   "mimetype": "text/x-python",
   "name": "python",
   "nbconvert_exporter": "python",
   "pygments_lexer": "ipython3",
   "version": "3.8.2"
  },
  "vscode": {
   "interpreter": {
    "hash": "7f5a6c9afddcb40f40375fedeb507de726d2d00f57e8a8afb8bf2a2494365881"
   }
  }
 },
 "nbformat": 4,
 "nbformat_minor": 4
}
